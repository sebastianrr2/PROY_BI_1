{
 "cells": [
  {
   "cell_type": "markdown",
   "id": "fe9c75c9",
   "metadata": {},
   "source": [
    "# Etapa 1 analitica de datos"
   ]
  },
  {
   "cell_type": "markdown",
   "id": "8fff204f",
   "metadata": {},
   "source": [
    "| Integrante        | Código     | Correo          |\n",
    "|--------------------|------------|-----------------|\n",
    "| Sebastián Ramírez | 202123415  | s.ramirez112    |\n",
    "|  |   |     |\n",
    "|  |   |     |\n",
    "\n",
    "**Objetivo**\n",
    "- Aplicar la metodología de analítica de textos para la construcción de soluciones de \n",
    "analítica alineadas con los objetivos de organizaciones en un contexto de aplicación. \n",
    "\n",
    "\n",
    "En esta etapa será científico de datos. El científico de datos tiene la responsabilidad de \n",
    "seguir un proceso replicable y de calidad, para entender los datos, prepararlos, construir el \n",
    "modelo analítico y evaluarlo, tanto a nivel cuantitativo como cualitativo. En este caso, cada \n",
    "grupo debe trabajar con opiniones que representan la voz de los habitantes locales para \n",
    "identificar las problemáticas de su entorno en términos de los ODS 1, 3 y 4, relacionados \n",
    "con “Fin de la pobreza”, “Salud y bienestar” y “Educación de calidad”. En esa tarea se \n",
    "requiere construir un modelo analítico que permita relacionar de forma automática nuevas \n",
    "opiniones, al igual que analizar las palabras que llevan a relacionar una opinión con un ODS."
   ]
  }
 ],
 "metadata": {
  "language_info": {
   "name": "python"
  }
 },
 "nbformat": 4,
 "nbformat_minor": 5
}
